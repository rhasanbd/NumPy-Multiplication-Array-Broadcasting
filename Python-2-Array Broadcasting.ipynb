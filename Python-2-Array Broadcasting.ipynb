{
 "cells": [
  {
   "cell_type": "markdown",
   "metadata": {},
   "source": [
    "# Array Broadcasting\n",
    "\n",
    "NumPy provides a mechanism for performing mathematical operations on arrays of unequal shapes. This mechanism is known as array broadcasting or broadcasting.\n",
    "\n",
    "\n",
    "The term broadcasting describes how numpy treats arrays with different shapes during arithmetic operations. Subject to certain constraints, the smaller array is “broadcast” across the larger array so that they have compatible shapes. \n",
    "\n",
    "Broadcasting provides a means of vectorizing array operations so that looping occurs in C instead of Python. It does this without making needless copies of data and usually leads to efficient algorithm implementations. \n",
    "\n",
    "\n",
    "\n",
    "## General Broadcasting Rules\n",
    "\n",
    "When operating on two arrays, NumPy compares their shapes element-wise. It starts with the trailing (i.e., rightmost) dimensions and works its way left. Two dimensions are compatible when\n",
    "\n",
    "- they are equal, or\n",
    "\n",
    "- one of them is 1\n",
    "\n",
    "If these conditions are not met, following exception is thrown: \n",
    "\n",
    "        ValueError: operands could not be broadcast together  \n",
    "\n",
    "It indicates that the arrays have incompatible shapes. The size of the resulting array is the size that is not 1 along each axis of the inputs.\n",
    "\n",
    "\n",
    "For more information: https://numpy.org/doc/stable/user/basics.broadcasting.html"
   ]
  },
  {
   "cell_type": "code",
   "execution_count": 1,
   "metadata": {},
   "outputs": [],
   "source": [
    "import numpy as np"
   ]
  },
  {
   "cell_type": "code",
   "execution_count": 2,
   "metadata": {},
   "outputs": [
    {
     "name": "stdout",
     "output_type": "stream",
     "text": [
      "x dimension:  (3,)\n",
      "y dimension:  (2,)\n"
     ]
    },
    {
     "ename": "ValueError",
     "evalue": "operands could not be broadcast together with shapes (3,) (2,) ",
     "output_type": "error",
     "traceback": [
      "\u001b[0;31m---------------------------------------------------------------------------\u001b[0m",
      "\u001b[0;31mValueError\u001b[0m                                Traceback (most recent call last)",
      "\u001b[0;32m<ipython-input-2-cf605b76ffa5>\u001b[0m in \u001b[0;36m<module>\u001b[0;34m\u001b[0m\n\u001b[1;32m      9\u001b[0m \u001b[0mprint\u001b[0m\u001b[0;34m(\u001b[0m\u001b[0;34m\"y dimension: \"\u001b[0m\u001b[0;34m,\u001b[0m \u001b[0my\u001b[0m\u001b[0;34m.\u001b[0m\u001b[0mshape\u001b[0m\u001b[0;34m)\u001b[0m\u001b[0;34m\u001b[0m\u001b[0;34m\u001b[0m\u001b[0m\n\u001b[1;32m     10\u001b[0m \u001b[0;34m\u001b[0m\u001b[0m\n\u001b[0;32m---> 11\u001b[0;31m \u001b[0mprint\u001b[0m\u001b[0;34m(\u001b[0m\u001b[0mx\u001b[0m\u001b[0;34m+\u001b[0m\u001b[0my\u001b[0m\u001b[0;34m)\u001b[0m\u001b[0;34m\u001b[0m\u001b[0;34m\u001b[0m\u001b[0m\n\u001b[0m",
      "\u001b[0;31mValueError\u001b[0m: operands could not be broadcast together with shapes (3,) (2,) "
     ]
    }
   ],
   "source": [
    "'''\n",
    "Dimensions of the two arrays are not compatible\n",
    "'''\n",
    "\n",
    "x = np.array([1,3,5])\n",
    "y = np.array([2,4])\n",
    "\n",
    "print(\"x dimension: \", x.shape)\n",
    "print(\"y dimension: \", y.shape)\n",
    "\n",
    "print(x+y)\n"
   ]
  },
  {
   "cell_type": "code",
   "execution_count": 3,
   "metadata": {},
   "outputs": [
    {
     "name": "stdout",
     "output_type": "stream",
     "text": [
      "x dimension:  (3,)\n",
      "y dimension:  (1,)\n",
      "[3 5 7]\n"
     ]
    }
   ],
   "source": [
    "'''\n",
    "Dimensions of the two arrays are compatible\n",
    "- because the dimension of the 2nd array is 1\n",
    "Here, dimensions with size 1 are stretched or “copied” to match the other.\n",
    "'''\n",
    "\n",
    "x = np.array([1,3,5])\n",
    "y = np.array([2,])\n",
    "\n",
    "print(\"x dimension: \", x.shape)\n",
    "print(\"y dimension: \", y.shape)\n",
    "\n",
    "print(x+y)"
   ]
  },
  {
   "cell_type": "code",
   "execution_count": 4,
   "metadata": {},
   "outputs": [
    {
     "name": "stdout",
     "output_type": "stream",
     "text": [
      "x dimension:  (2, 3)\n",
      "y dimension:  (3,)\n",
      "[[ 3  4  8]\n",
      " [ 9  9 12]]\n"
     ]
    }
   ],
   "source": [
    "'''\n",
    "Dimensions of the two arrays are compatible\n",
    "- because the right-most dimensions are  equal\n",
    "\n",
    "Here the lining up the sizes of the trailing axes of these arrays according to the broadcast rules, \n",
    "shows that they are compatible.\n",
    "'''\n",
    "\n",
    "x = np.array([[1, 3, 5], [7, 8, 9]])\n",
    "y = np.array([2, 1, 3])\n",
    "\n",
    "print(\"x dimension: \", x.shape)\n",
    "print(\"y dimension: \", y.shape)\n",
    "\n",
    "print(x+y)"
   ]
  },
  {
   "cell_type": "markdown",
   "metadata": {},
   "source": [
    "## Outer Product\n",
    "\n",
    "Broadcasting provides a convenient way of taking the outer product (or any other outer operation) of two arrays. The following example shows an outer addition operation of two 1-d arrays:\n",
    "\n",
    "Here the newaxis index operator inserts a new axis into x, making it a two-dimensional (4 x 1) array. Combining the 4x1 array with y, which has shape (3, ), yields a (4 x 3) array."
   ]
  },
  {
   "cell_type": "code",
   "execution_count": 5,
   "metadata": {},
   "outputs": [
    {
     "name": "stdout",
     "output_type": "stream",
     "text": [
      "x dimension:  (4,)\n",
      "y dimension:  (3,)\n",
      "\n",
      "x dimension:  (4, 1)\n",
      "[[ 1.  2.  3.]\n",
      " [11. 12. 13.]\n",
      " [21. 22. 23.]\n",
      " [31. 32. 33.]]\n"
     ]
    }
   ],
   "source": [
    "x = np.array([0.0, 10.0, 20.0, 30.0])\n",
    "y = np.array([1.0, 2.0, 3.0])\n",
    "\n",
    "print(\"x dimension: \", x.shape)\n",
    "print(\"y dimension: \", y.shape)\n",
    "\n",
    "# add a new axis\n",
    "x = x[:, np.newaxis]\n",
    "\n",
    "print(\"\\nx dimension: \", x.shape)\n",
    "\n",
    "print(x + y)"
   ]
  },
  {
   "cell_type": "markdown",
   "metadata": {},
   "source": [
    "Alternatively, we may insert a new axis into y, making it a two-dimensional (3 x 1) array. \n",
    "\n",
    "Then, we combine the array x with shape (4, ) with the new y, yielding a (3 x 4) array."
   ]
  },
  {
   "cell_type": "code",
   "execution_count": 6,
   "metadata": {},
   "outputs": [
    {
     "name": "stdout",
     "output_type": "stream",
     "text": [
      "x dimension:  (4,)\n",
      "y dimension:  (3,)\n",
      "\n",
      "y dimension:  (3, 1)\n",
      "[[ 1. 11. 21. 31.]\n",
      " [ 2. 12. 22. 32.]\n",
      " [ 3. 13. 23. 33.]]\n"
     ]
    }
   ],
   "source": [
    "x = np.array([0.0, 10.0, 20.0, 30.0])\n",
    "y = np.array([1.0, 2.0, 3.0])\n",
    "\n",
    "print(\"x dimension: \", x.shape)\n",
    "print(\"y dimension: \", y.shape)\n",
    "\n",
    "# add a new axis\n",
    "y = y[:, np.newaxis]\n",
    "\n",
    "print(\"\\ny dimension: \", y.shape)\n",
    "\n",
    "print(x + y)"
   ]
  }
 ],
 "metadata": {
  "kernelspec": {
   "display_name": "Python 3",
   "language": "python",
   "name": "python3"
  },
  "language_info": {
   "codemirror_mode": {
    "name": "ipython",
    "version": 3
   },
   "file_extension": ".py",
   "mimetype": "text/x-python",
   "name": "python",
   "nbconvert_exporter": "python",
   "pygments_lexer": "ipython3",
   "version": "3.7.3"
  }
 },
 "nbformat": 4,
 "nbformat_minor": 2
}
