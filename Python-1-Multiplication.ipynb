{
 "cells": [
  {
   "cell_type": "markdown",
   "metadata": {},
   "source": [
    "# Multiplication between N-dimensional Arrays\n",
    "\n",
    "\n",
    "In this notebook, we describe the techniques for multiplying N-dimensional arrays (ndarray) using NumPy. Specifically, we describe the following types of multiplications.\n",
    "\n",
    "- Element-wise multiplication (Hadamard product)\n",
    "- Dot product\n",
    "- Matrix multiplication\n"
   ]
  },
  {
   "cell_type": "code",
   "execution_count": 1,
   "metadata": {},
   "outputs": [],
   "source": [
    "import numpy as np"
   ]
  },
  {
   "cell_type": "markdown",
   "metadata": {},
   "source": [
    "## Element-wise multiplication (Hadamard product)\n",
    "\n",
    "The element-wise product or Hadamard product is a binary operation that takes two matrices of the same dimensions and produces another matrix of the same dimension as the operands, where each element i, j is the product of elements i, j of the original two matrices.\n",
    "\n",
    "We can use the following two NumPy techniques for performing element-wise multiplication.\n",
    "\n",
    "- *\n",
    "- np.multiply\n",
    "\n",
    "We will get the same result by using both techniques."
   ]
  },
  {
   "cell_type": "code",
   "execution_count": 2,
   "metadata": {},
   "outputs": [
    {
     "name": "stdout",
     "output_type": "stream",
     "text": [
      "Matrix a:\n",
      " [[2 2]\n",
      " [2 2]]\n",
      "\n",
      "Shape of a:  (2, 2)\n",
      "\n",
      "Matrix b:\n",
      " [[4 4]\n",
      " [4 4]]\n",
      "\n",
      "Shape of b: (2, 2)\n",
      "\n",
      "a * b:\n",
      " [[8 8]\n",
      " [8 8]]\n",
      "\n",
      "np.multiply(a, b):\n",
      " [[8 8]\n",
      " [8 8]]\n"
     ]
    }
   ],
   "source": [
    "# Create a 2D matrix\n",
    "a = np.array([[2, 2], [2, 2]]) \n",
    "print(\"Matrix a:\\n\", a)\n",
    "print(\"\\nShape of a: \", a.shape)\n",
    "\n",
    "# Create another 2D matrix\n",
    "b = np.array([[4, 4], [4, 4]])  \n",
    "print(\"\\nMatrix b:\\n\", b)\n",
    "print(\"\\nShape of b:\", b.shape)\n",
    "\n",
    "# Element-wise multiplication using *\n",
    "c = a * b\n",
    "print(\"\\na * b:\\n\", c)\n",
    "\n",
    "# Element-wise multiplication using np.multiply\n",
    "d = np.multiply(a, b)\n",
    "print(\"\\nnp.multiply(a, b):\\n\", d)"
   ]
  },
  {
   "cell_type": "markdown",
   "metadata": {},
   "source": [
    "\n",
    "## Dot product:\n",
    "\n",
    "The dot product is an algebraic operation that takes two same-sized **vectors** (dimension 1D) and returns a single number.\n",
    "\n",
    "\n",
    "For computing a dot product between two vectors, we use the **np.dot** function.\n",
    "\n",
    "The np.dot function can also be used for computing the dot product between two ndarrays (matrices). This is shown later."
   ]
  },
  {
   "cell_type": "code",
   "execution_count": 3,
   "metadata": {},
   "outputs": [
    {
     "name": "stdout",
     "output_type": "stream",
     "text": [
      "Vector a:  [2 2 2]\n",
      "Shape of a:  (3,)\n",
      "\n",
      "Vector b:  [4 4 4]\n",
      "Shape of b: (3,)\n",
      "\n",
      "np.dot(a, b):  24\n"
     ]
    }
   ],
   "source": [
    "# Create a vector\n",
    "a = np.array([2, 2, 2]) \n",
    "print(\"Vector a: \", a)\n",
    "print(\"Shape of a: \", a.shape)\n",
    "\n",
    "# Create another vector\n",
    "b = np.array([4, 4, 4])  \n",
    "print(\"\\nVector b: \", b)\n",
    "print(\"Shape of b:\", b.shape)\n",
    "\n",
    "\n",
    "# Dot product of a and b\n",
    "c = np.dot(a, b) \n",
    "print(\"\\nnp.dot(a, b): \", c)"
   ]
  },
  {
   "cell_type": "markdown",
   "metadata": {},
   "source": [
    "## Matrix Multiplication\n",
    "\n",
    "It is the **matrix version of the dot product**. Unlike the scalar-valued result of a dot product, the result of matrix multiplication is a matrix.\n",
    "\n",
    "\n",
    "For performing matrix multiplication, we can use\n",
    "- np.matmul function\n",
    "- @ oprator \n",
    "\n",
    "The @ operator performs the same task the np.matmul peforms. However, it is available only in python 3.5+"
   ]
  },
  {
   "cell_type": "code",
   "execution_count": 4,
   "metadata": {},
   "outputs": [
    {
     "name": "stdout",
     "output_type": "stream",
     "text": [
      "Matrix a:\n",
      " [[2 2]\n",
      " [2 2]]\n",
      "\n",
      "Shape of a:  (2, 2)\n",
      "\n",
      "Matrix b:\n",
      " [[4 4]\n",
      " [4 4]]\n",
      "\n",
      "Shape of b: (2, 2)\n",
      "\n",
      "np.matmul(a, b):\n",
      " [[16 16]\n",
      " [16 16]]\n",
      "\n",
      "a @ b:\n",
      " [[16 16]\n",
      " [16 16]]\n"
     ]
    }
   ],
   "source": [
    "# Create a 2D matrix\n",
    "a = np.array([[2, 2], [2, 2]]) \n",
    "print(\"Matrix a:\\n\", a)\n",
    "print(\"\\nShape of a: \", a.shape)\n",
    "\n",
    "# Create another 2D matrix\n",
    "b = np.array([[4, 4], [4, 4]])  \n",
    "print(\"\\nMatrix b:\\n\", b)\n",
    "print(\"\\nShape of b:\", b.shape)\n",
    "\n",
    "# np.matmul\n",
    "d = np.matmul(a, b)\n",
    "print(\"\\nnp.matmul(a, b):\\n\", d)\n",
    "\n",
    "# @\n",
    "e = a @ b\n",
    "print(\"\\na @ b:\\n\", e)"
   ]
  },
  {
   "cell_type": "markdown",
   "metadata": {},
   "source": [
    "## Comparison: Dot Product vs. Matrix Multiplication\n",
    "\n",
    "The np.dot and np.matmul (and @) functions give the **same result**. However, there is an important difference.\n",
    "\n",
    "- The np.dot function behaves differently for matrices with dimensions higher than 2D. In such a case, np.matmul should be used.\n",
    "\n",
    "Following guideline could be useful for selecting a suitable function.\n",
    "- np.dot: for computing a dot product between two 1D vectors \n",
    "- np.matmul and @: for computing a matrix multiplication between two matrices (2D or higher)\n",
    "\n",
    "\n",
    "\n",
    "## Example: Two 2D Matrices \n",
    "\n",
    "We will see that np.dot, np.matmul, and @ **behave similarly** when the dimension of the matrices is <=2D."
   ]
  },
  {
   "cell_type": "code",
   "execution_count": 5,
   "metadata": {},
   "outputs": [
    {
     "name": "stdout",
     "output_type": "stream",
     "text": [
      "Matrix a:\n",
      " [[2 2]\n",
      " [2 2]]\n",
      "\n",
      "Shape of a:  (2, 2)\n",
      "\n",
      "Matrix b:\n",
      " [[4 4]\n",
      " [4 4]]\n",
      "\n",
      "Shape of b: (2, 2)\n",
      "\n",
      "np.dot(a, b):\n",
      " [[16 16]\n",
      " [16 16]]\n",
      "\n",
      "np.matmul(a, b):\n",
      " [[16 16]\n",
      " [16 16]]\n",
      "\n",
      "a @ b:\n",
      " [[16 16]\n",
      " [16 16]]\n"
     ]
    }
   ],
   "source": [
    "a = np.array([[2, 2], [2, 2]]) \n",
    "print(\"Matrix a:\\n\", a)\n",
    "print(\"\\nShape of a: \", a.shape)\n",
    "\n",
    "b = np.array([[4, 4], [4, 4]])  \n",
    "print(\"\\nMatrix b:\\n\", b)\n",
    "print(\"\\nShape of b:\", b.shape)\n",
    "\n",
    "# np.dot\n",
    "c = np.dot(a, b) \n",
    "print(\"\\nnp.dot(a, b):\\n\", c)\n",
    "\n",
    "# np.matmul\n",
    "d = np.matmul(a, b)\n",
    "print(\"\\nnp.matmul(a, b):\\n\", d)\n",
    "\n",
    "# @\n",
    "e = a @ b\n",
    "print(\"\\na @ b:\\n\", e)"
   ]
  },
  {
   "cell_type": "markdown",
   "metadata": {},
   "source": [
    "## Example: Two 3D Matrices \n",
    "\n",
    "We will see that the np.dot **behaves differently** than np.matmul or @ when the dimension of the matrices is larger than 2D. \n",
    "\n",
    "Note: The np.dot function works for high dimensional matrices as follows.\n",
    "If a is an N-D array and b is an M-D array (where M>=2), it is a sum product over the last axis of a and the second-to-last axis of b:\n",
    "\n",
    "dot(a,b)[i,j,k,m]=sum(a[i,j,:]∗b[k,:,m])"
   ]
  },
  {
   "cell_type": "code",
   "execution_count": 6,
   "metadata": {},
   "outputs": [
    {
     "name": "stdout",
     "output_type": "stream",
     "text": [
      "Matrix a:\n",
      " [[[2. 2.]\n",
      "  [2. 2.]]\n",
      "\n",
      " [[2. 2.]\n",
      "  [2. 2.]]\n",
      "\n",
      " [[2. 2.]\n",
      "  [2. 2.]]]\n",
      "\n",
      "Shape of a:  (3, 2, 2)\n",
      "\n",
      "Matrix b:\n",
      " [[[4. 4.]\n",
      "  [4. 4.]]\n",
      "\n",
      " [[4. 4.]\n",
      "  [4. 4.]]\n",
      "\n",
      " [[4. 4.]\n",
      "  [4. 4.]]]\n",
      "\n",
      "Shape of b:  (3, 2, 2)\n",
      "\n",
      "np.dot(a, b):\n",
      " [[[[16. 16.]\n",
      "   [16. 16.]\n",
      "   [16. 16.]]\n",
      "\n",
      "  [[16. 16.]\n",
      "   [16. 16.]\n",
      "   [16. 16.]]]\n",
      "\n",
      "\n",
      " [[[16. 16.]\n",
      "   [16. 16.]\n",
      "   [16. 16.]]\n",
      "\n",
      "  [[16. 16.]\n",
      "   [16. 16.]\n",
      "   [16. 16.]]]\n",
      "\n",
      "\n",
      " [[[16. 16.]\n",
      "   [16. 16.]\n",
      "   [16. 16.]]\n",
      "\n",
      "  [[16. 16.]\n",
      "   [16. 16.]\n",
      "   [16. 16.]]]]\n",
      "\n",
      "Shape of np.dot(a, b):  (3, 2, 3, 2)\n",
      "\n",
      "np.matmul(a, b):\n",
      " [[[16. 16.]\n",
      "  [16. 16.]]\n",
      "\n",
      " [[16. 16.]\n",
      "  [16. 16.]]\n",
      "\n",
      " [[16. 16.]\n",
      "  [16. 16.]]]\n",
      "\n",
      "Shape of np.matmul(a, b):  (3, 2, 2)\n",
      "\n",
      "a @ b:\n",
      " [[[16. 16.]\n",
      "  [16. 16.]]\n",
      "\n",
      " [[16. 16.]\n",
      "  [16. 16.]]\n",
      "\n",
      " [[16. 16.]\n",
      "  [16. 16.]]]\n",
      "\n",
      "Shape of a @ b:  (3, 2, 2)\n"
     ]
    }
   ],
   "source": [
    "a = np.ones(shape=(3, 2, 2), dtype=np.float32) * 2\n",
    "print(\"Matrix a:\\n\", a)\n",
    "print(\"\\nShape of a: \", a.shape)\n",
    "\n",
    "b = np.ones(shape=(3, 2, 2), dtype=np.float32) * 4\n",
    "print(\"\\nMatrix b:\\n\", b)\n",
    "print(\"\\nShape of b: \", b.shape)\n",
    "\n",
    "# np.dot\n",
    "c = np.dot(a, b) \n",
    "print(\"\\nnp.dot(a, b):\\n\", c)\n",
    "print(\"\\nShape of np.dot(a, b): \", c.shape)\n",
    "\n",
    "# np.matmul\n",
    "d = np.matmul(a, b)\n",
    "print(\"\\nnp.matmul(a, b):\\n\", d)\n",
    "print(\"\\nShape of np.matmul(a, b): \", d.shape)\n",
    "\n",
    "# @\n",
    "e = a @ b\n",
    "print(\"\\na @ b:\\n\", e)\n",
    "print(\"\\nShape of a @ b: \", e.shape)"
   ]
  }
 ],
 "metadata": {
  "kernelspec": {
   "display_name": "Python 3",
   "language": "python",
   "name": "python3"
  },
  "language_info": {
   "codemirror_mode": {
    "name": "ipython",
    "version": 3
   },
   "file_extension": ".py",
   "mimetype": "text/x-python",
   "name": "python",
   "nbconvert_exporter": "python",
   "pygments_lexer": "ipython3",
   "version": "3.7.3"
  }
 },
 "nbformat": 4,
 "nbformat_minor": 2
}
